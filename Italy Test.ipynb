{
 "cells": [
  {
   "cell_type": "code",
   "execution_count": 58,
   "metadata": {},
   "outputs": [
    {
     "data": {
      "text/plain": [
       "(array([3.53949282e+00, 6.80056123e+01, 1.59683824e+04]),\n",
       " array([[5.82186801e-02, 3.54193410e-01, 9.48608826e+02],\n",
       "        [3.54193410e-01, 2.33555958e+00, 6.36375726e+03],\n",
       "        [9.48608826e+02, 6.36375726e+03, 1.74280690e+07]]))"
      ]
     },
     "execution_count": 58,
     "metadata": {},
     "output_type": "execute_result"
    }
   ],
   "source": [
    "import pandas as pd\n",
    "import numpy as np\n",
    "from datetime import datetime,timedelta\n",
    "from sklearn.metrics import mean_squared_error\n",
    "from scipy.optimize import curve_fit\n",
    "from scipy.optimize import fsolve\n",
    "import matplotlib.pyplot as plt\n",
    "%matplotlib inline\n",
    "\n",
    "# url = \"https://raw.githubusercontent.com/pcm-dpc/COVID-19/master/dati-andamento-nazionale/dpc-covid19-ita-andamento-nazionale.csv\"\n",
    "df = pd.read_csv('Italy.csv')\n",
    "\n",
    "df = df.loc[:,['data','totale_casi']]\n",
    "FMT = '%Y-%m-%dT%H:%M:%S'\n",
    "\n",
    "date = df['data']\n",
    "\n",
    "df['data'] = date.map(lambda x : (datetime.strptime(x, FMT) - datetime.strptime(\"2020-01-01T00:00:00\", FMT)).days  )\n",
    "df\n",
    "\n",
    "def logistic_model(x,a,b,c):\n",
    "    return c/(1+np.exp(-(x-b)/a))\n",
    "\n",
    "x = list(df.iloc[:,0])\n",
    "y = list(df.iloc[:,1])\n",
    "fit = curve_fit(logistic_model,x,y,p0=[2,100,20000])\n",
    "\n",
    "fit\n",
    "\n",
    "# errors = [np.sqrt(fit[1][i][i]) for i in [0,1,2]]\n",
    "\n",
    "# (a,b,c)=(fit[0][0],fit[0][1],fit[0][2])\n",
    "\n",
    "# sol = int(fsolve(lambda x : logistic_model(x,a,b,c) - int(c),b))\n",
    "\n",
    "# def exponential_model(x,a,b,c):\n",
    "#     return a*np.exp(b*(x-c))\n",
    "# exp_fit = curve_fit(exponential_model,x,y,p0=[1,1,1])\n",
    "\n",
    "# pred_x = list(range(max(x),sol))\n",
    "# plt.rcParams['figure.figsize'] = [7, 7]\n",
    "# plt.rc('font', size=14)\n",
    "\n",
    "# # Real data\n",
    "# plt.scatter(x,y,label=\"Real data\",color=\"red\")\n",
    "# # Predicted logistic curve\n",
    "# plt.plot(x+pred_x, [logistic_model(i,fit[0][0],fit[0][1],fit[0][2]) for i in x+pred_x], label=\"Logistic model\" )\n",
    "# # Predicted exponential curve\n",
    "# plt.plot(x+pred_x, [exponential_model(i,exp_fit[0][0],exp_fit[0][1],exp_fit[0][2]) for i in x+pred_x], label=\"Exponential model\" )\n",
    "# plt.legend()\n",
    "# plt.xlabel(\"Days since 1 January 2020\")\n",
    "# plt.ylabel(\"Total number of infected people\")\n",
    "# plt.ylim((min(y)*0.9,c*1.1))\n",
    "# plt.show()\n"
   ]
  },
  {
   "cell_type": "code",
   "execution_count": null,
   "metadata": {},
   "outputs": [],
   "source": []
  }
 ],
 "metadata": {
  "kernelspec": {
   "display_name": "Python 3",
   "language": "python",
   "name": "python3"
  },
  "language_info": {
   "codemirror_mode": {
    "name": "ipython",
    "version": 3
   },
   "file_extension": ".py",
   "mimetype": "text/x-python",
   "name": "python",
   "nbconvert_exporter": "python",
   "pygments_lexer": "ipython3",
   "version": "3.6.4"
  }
 },
 "nbformat": 4,
 "nbformat_minor": 2
}
